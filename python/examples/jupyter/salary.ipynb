{
 "cells": [
  {
   "cell_type": "code",
   "execution_count": null,
   "metadata": {},
   "outputs": [],
   "source": [
    "import pandas as pd\n",
    "import numpy as np"
   ]
  },
  {
   "cell_type": "code",
   "execution_count": null,
   "metadata": {},
   "outputs": [],
   "source": [
    "hours_worked = list(range(100, 10, -1))\n",
    "\n",
    "df = pd.DataFrame(\n",
    "{\n",
    "    'DayofTheMonth': 9,\n",
    "    'MonthNumber':list(range(1, 13)) * 5,\n",
    "    'Year': [2015]*12 + [2016]*12 + [2017]*12 + [2018]*12 + [2019]*12,\n",
    "    'X':[i**0.5 + 30 for i in range(0, 60)],\n",
    "    'HoursWorked': [h + np.random.randint(-2, 1)*np.random.randint(0, 15) for h in np.linspace(180, 150, 60)]\n",
    "}\n",
    ")\n",
    "df['TotalAmount'] = df['X'] * df['HoursWorked']\n",
    "df.drop('X', axis=1, inplace=True)\n",
    "df = df.sample(frac=1)\n",
    "df.to_csv(r'salary.csv', index=False)\n",
    "df.head()"
   ]
  },
  {
   "cell_type": "code",
   "execution_count": null,
   "metadata": {},
   "outputs": [],
   "source": [
    "import matplotlib.pyplot as plt\n",
    "%matplotlib inline"
   ]
  },
  {
   "cell_type": "code",
   "execution_count": null,
   "metadata": {},
   "outputs": [],
   "source": [
    "salary = pd.read_csv(r'salary.csv')\n",
    "salary.head()"
   ]
  },
  {
   "cell_type": "code",
   "execution_count": null,
   "metadata": {},
   "outputs": [],
   "source": [
    "salary.info()"
   ]
  },
  {
   "cell_type": "code",
   "execution_count": null,
   "metadata": {},
   "outputs": [],
   "source": [
    "salary.shape"
   ]
  },
  {
   "cell_type": "code",
   "execution_count": null,
   "metadata": {},
   "outputs": [],
   "source": [
    "salary.describe()"
   ]
  },
  {
   "cell_type": "code",
   "execution_count": null,
   "metadata": {},
   "outputs": [],
   "source": [
    "df.sort_values(['Year', 'MonthNumber'], inplace=True)\n",
    "df.head()"
   ]
  },
  {
   "cell_type": "code",
   "execution_count": null,
   "metadata": {},
   "outputs": [],
   "source": [
    "import datetime\n",
    "\n",
    "def convert_to_datetime(row):\n",
    "    date_string = '{day}{month}{year}'.format(day=int(row['DayofTheMonth']), \n",
    "                                              month=int(row['MonthNumber']), \n",
    "                                              year=int(row['Year']))\n",
    "    return datetime.datetime.strptime(date_string, \"%d%m%Y\").date()\n",
    "\n",
    "\n",
    "df['date'] = df.apply(convert_to_datetime, axis=1)\n",
    "df.head()"
   ]
  },
  {
   "cell_type": "code",
   "execution_count": null,
   "metadata": {},
   "outputs": [],
   "source": [
    "df.plot(x='date', y='HoursWorked')\n",
    "plt.subplots_adjust(right=2, top=2)"
   ]
  },
  {
   "cell_type": "code",
   "execution_count": null,
   "metadata": {},
   "outputs": [],
   "source": [
    "df.plot(x='date', y='TotalAmount')\n",
    "plt.subplots_adjust(right=2, top=2)"
   ]
  },
  {
   "cell_type": "code",
   "execution_count": null,
   "metadata": {},
   "outputs": [],
   "source": [
    "df['per_hour'] = df['TotalAmount'] / df['HoursWorked']\n",
    "\n",
    "df.plot(x='date', y='per_hour')\n",
    "plt.subplots_adjust(right=2, top=2)"
   ]
  }
 ],
 "metadata": {
  "kernelspec": {
   "display_name": "Python 3",
   "language": "python",
   "name": "python3"
  },
  "language_info": {
   "codemirror_mode": {
    "name": "ipython",
    "version": 3
   },
   "file_extension": ".py",
   "mimetype": "text/x-python",
   "name": "python",
   "nbconvert_exporter": "python",
   "pygments_lexer": "ipython3",
   "version": "3.7.3"
  }
 },
 "nbformat": 4,
 "nbformat_minor": 2
}
