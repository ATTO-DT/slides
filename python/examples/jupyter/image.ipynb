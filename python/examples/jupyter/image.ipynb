{
 "cells": [
  {
   "cell_type": "code",
   "execution_count": null,
   "metadata": {},
   "outputs": [],
   "source": [
    "import scipy\n",
    "from scipy import misc\n",
    "import matplotlib.pyplot as plt\n",
    "import numpy as np"
   ]
  },
  {
   "cell_type": "code",
   "execution_count": null,
   "metadata": {},
   "outputs": [],
   "source": [
    "f = misc.face()\n",
    "plt.imshow(f)\n",
    "#plt.show()"
   ]
  },
  {
   "cell_type": "code",
   "execution_count": null,
   "metadata": {},
   "outputs": [],
   "source": [
    "type(f)"
   ]
  },
  {
   "cell_type": "code",
   "execution_count": null,
   "metadata": {},
   "outputs": [],
   "source": [
    "f.shape"
   ]
  },
  {
   "cell_type": "code",
   "execution_count": null,
   "metadata": {},
   "outputs": [],
   "source": [
    "g = np.copy(f)\n",
    "#g[100] = 0\n",
    "#g[::20] = 0\n",
    "#g[100:110] = 0\n",
    "#g[100:110] = 255\n",
    "\n",
    "#g[100:110,:,0] = 0   # Red\n",
    "#g[100:110,:,1] = 0   # Green\n",
    "#g[100:110,:,2] = 255 # Blue\n",
    "\n",
    "g[:,100] = 0\n",
    "plt.imshow(g)\n"
   ]
  },
  {
   "cell_type": "code",
   "execution_count": null,
   "metadata": {},
   "outputs": [],
   "source": [
    "dir(f)"
   ]
  },
  {
   "cell_type": "code",
   "execution_count": null,
   "metadata": {},
   "outputs": [],
   "source": [
    "#plt.imshow(f.transpose())\n",
    "#help(f.transpose)"
   ]
  },
  {
   "cell_type": "code",
   "execution_count": null,
   "metadata": {},
   "outputs": [],
   "source": [
    "filename = \"/home/gabor/work/code-maven.com/static/img/twitter32.png\"\n",
    "\n",
    "# pip install opencv-python\n",
    "import cv2\n",
    "im = cv2.imread(filename)\n",
    "type(im)\n",
    "im\n",
    "plt.imshow(im)\n",
    "#im.shape\n"
   ]
  },
  {
   "cell_type": "code",
   "execution_count": null,
   "metadata": {},
   "outputs": [],
   "source": [
    "my = np.zeros((32, 32, 3), dtype='uint8')\n",
    "my[:,:,:] = 255\n",
    "my.shape\n",
    "my[10:12, 10:12, 0:3] = [100, 80, 255] # RGB\n",
    "#my[10:12, 10:12, 0] = 20 \n",
    "#my[10:12, 10:12, 1] = 30 \n",
    "plt.imshow(my)\n",
    "\n",
    "# find the max value of the image"
   ]
  },
  {
   "cell_type": "code",
   "execution_count": null,
   "metadata": {},
   "outputs": [],
   "source": [
    "mat_file = \"/home/gabor/Downloads/Weizmann/Jan/learningMatRaw.mat\""
   ]
  }
 ],
 "metadata": {
  "kernelspec": {
   "display_name": "Python 3",
   "language": "python",
   "name": "python3"
  },
  "language_info": {
   "codemirror_mode": {
    "name": "ipython",
    "version": 3
   },
   "file_extension": ".py",
   "mimetype": "text/x-python",
   "name": "python",
   "nbconvert_exporter": "python",
   "pygments_lexer": "ipython3",
   "version": "3.7.3"
  }
 },
 "nbformat": 4,
 "nbformat_minor": 2
}
