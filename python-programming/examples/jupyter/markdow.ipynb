{
 "cells": [
  {
   "cell_type": "markdown",
   "metadata": {},
   "source": [
    "planets['$r_{12}$'] = planets['Mass'] # latex"
   ]
  },
  {
   "cell_type": "markdown",
   "metadata": {},
   "source": [
    "gravitational force is $F = G (m_1 m_2) / D^2$"
   ]
  }
 ],
 "metadata": {
  "kernelspec": {
   "display_name": "Python 3",
   "language": "python",
   "name": "python3"
  },
  "language_info": {
   "codemirror_mode": {
    "name": "ipython",
    "version": 3
   },
   "file_extension": ".py",
   "mimetype": "text/x-python",
   "name": "python",
   "nbconvert_exporter": "python",
   "pygments_lexer": "ipython3",
   "version": "3.7.3"
  }
 },
 "nbformat": 4,
 "nbformat_minor": 2
}
